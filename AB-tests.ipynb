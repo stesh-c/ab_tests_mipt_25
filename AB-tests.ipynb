{
  "nbformat": 4,
  "nbformat_minor": 0,
  "metadata": {
    "colab": {
      "provenance": [],
      "toc_visible": true
    },
    "kernelspec": {
      "name": "python3",
      "display_name": "Python 3"
    },
    "language_info": {
      "name": "python"
    }
  },
  "cells": [
    {
      "cell_type": "markdown",
      "source": [
        "# Статистические критерии"
      ],
      "metadata": {
        "id": "lsqI6rbS6Kn7"
      }
    },
    {
      "cell_type": "code",
      "source": [
        "from collections import namedtuple\n",
        "import scipy.stats as sps\n",
        "import statsmodels.stats.api as sms\n",
        "from tqdm.notebook import tqdm as tqdm_notebook\n",
        "from collections import defaultdict\n",
        "from statsmodels.stats.proportion import proportion_confint\n",
        "import numpy as np\n",
        "import itertools\n",
        "import seaborn as sns\n",
        "import scipy.stats as sps\n",
        "import matplotlib.pyplot as plt\n",
        "import seaborn as sns\n",
        "import pandas as pd\n",
        "sns.set(font_scale=1.5, palette='Set2')\n",
        "ExperimentComparisonResults = namedtuple('ExperimentComparisonResults',\n",
        "                                        ['pvalue', 'effect', 'ci_length', 'left_bound', 'right_bound'])"
      ],
      "metadata": {
        "id": "QMdx8-CV6PzO"
      },
      "execution_count": null,
      "outputs": []
    },
    {
      "cell_type": "markdown",
      "source": [
        "## T-test"
      ],
      "metadata": {
        "id": "6rF_xxzf7PmU"
      }
    },
    {
      "cell_type": "code",
      "source": [
        "def absolute_ttest(control, test):\n",
        "    mean_control = np.mean(control)\n",
        "    mean_test = np.mean(test)\n",
        "    var_mean_control  = np.var(control) / len(control)\n",
        "    var_mean_test  = np.var(test) / len(test)\n",
        "\n",
        "    difference_mean = mean_test - mean_control\n",
        "    difference_mean_var = var_mean_control + var_mean_test\n",
        "    difference_distribution = sps.norm(loc=difference_mean, scale=np.sqrt(difference_mean_var))\n",
        "\n",
        "    left_bound, right_bound = difference_distribution.ppf([0.025, 0.975])\n",
        "    ci_length = (right_bound - left_bound)\n",
        "    pvalue = 2 * min(difference_distribution.cdf(0), difference_distribution.sf(0))\n",
        "    effect = difference_mean\n",
        "    return ExperimentComparisonResults(pvalue, effect, ci_length, left_bound, right_bound)"
      ],
      "metadata": {
        "id": "-8FhDALN6RB7"
      },
      "execution_count": null,
      "outputs": []
    },
    {
      "cell_type": "code",
      "source": [
        "def relative_ttest(control, test):\n",
        "    mean_control = np.mean(control)\n",
        "    var_mean_control  = np.var(control) / len(control)\n",
        "\n",
        "    difference_mean = np.mean(test) - mean_control\n",
        "    difference_mean_var  = np.var(test) / len(test) + var_mean_control\n",
        "\n",
        "    covariance = -var_mean_control\n",
        "\n",
        "    relative_mu = difference_mean / mean_control\n",
        "    relative_var = difference_mean_var / (mean_control ** 2) \\\n",
        "                    + var_mean_control * ((difference_mean ** 2) / (mean_control ** 4))\\\n",
        "                    - 2 * (difference_mean / (mean_control ** 3)) * covariance\n",
        "    relative_distribution = sps.norm(loc=relative_mu, scale=np.sqrt(relative_var))\n",
        "    left_bound, right_bound = relative_distribution.ppf([0.025, 0.975])\n",
        "\n",
        "    ci_length = (right_bound - left_bound)\n",
        "    pvalue = 2 * min(relative_distribution.cdf(0), relative_distribution.sf(0))\n",
        "    effect = relative_mu\n",
        "    return ExperimentComparisonResults(pvalue, effect, ci_length, left_bound, right_bound)"
      ],
      "metadata": {
        "id": "Kcxh7GPk6REf"
      },
      "execution_count": null,
      "outputs": []
    },
    {
      "cell_type": "markdown",
      "source": [
        "## Cuped"
      ],
      "metadata": {
        "id": "6IFkqpoe7TMC"
      }
    },
    {
      "cell_type": "code",
      "source": [
        "def absolute_cuped(control, test, control_before, test_before):\n",
        "    theta = (np.cov(control, control_before)[0, 1] + np.cov(test, test_before)[0, 1]) /\\\n",
        "                (np.var(control_before) + np.var(test_before))\n",
        "\n",
        "    control_cup = control - theta * control_before\n",
        "    test_cup = test - theta * test_before\n",
        "    return absolute_ttest(control_cup, test_cup)"
      ],
      "metadata": {
        "id": "oghpEzx37C6Z"
      },
      "execution_count": null,
      "outputs": []
    },
    {
      "cell_type": "code",
      "source": [
        "def relative_cuped(control, test, control_before, test_before):\n",
        "    theta = (np.cov(control, control_before)[0, 1] + np.cov(test, test_before)[0, 1]) /\\\n",
        "                (np.var(control_before) + np.var(test_before))\n",
        "\n",
        "    control_cup = control - theta * control_before\n",
        "    test_cup = test - theta * test_before\n",
        "\n",
        "    mean_den = np.mean(control)\n",
        "    mean_num = np.mean(test_cup) - np.mean(control_cup)\n",
        "    var_mean_den  = np.var(control) / len(control)\n",
        "    var_mean_num  = np.var(test_cup) / len(test_cup) + np.var(control_cup) / len(control_cup)\n",
        "\n",
        "    cov = -np.cov(control_cup, control)[0, 1] / len(control)\n",
        "\n",
        "    relative_mu = mean_num / mean_den\n",
        "    relative_var = var_mean_num / (mean_den ** 2)  + var_mean_den * ((mean_num ** 2) / (mean_den ** 4))\\\n",
        "                - 2 * (mean_num / (mean_den ** 3)) * cov\n",
        "\n",
        "    relative_distribution = sps.norm(loc=relative_mu, scale=np.sqrt(relative_var))\n",
        "    left_bound, right_bound = relative_distribution.ppf([0.025, 0.975])\n",
        "\n",
        "    ci_length = (right_bound - left_bound)\n",
        "    pvalue = 2 * min(relative_distribution.cdf(0), relative_distribution.sf(0))\n",
        "    effect = relative_mu\n",
        "    return ExperimentComparisonResults(pvalue, effect, ci_length, left_bound, right_bound)"
      ],
      "metadata": {
        "id": "MJBye4M26-O_"
      },
      "execution_count": null,
      "outputs": []
    },
    {
      "cell_type": "markdown",
      "source": [
        "## Paired stratification"
      ],
      "metadata": {
        "id": "WNPY-vQZ7Vyf"
      }
    },
    {
      "cell_type": "code",
      "source": [
        "def paired_ttest(control, test):\n",
        "    mean_control = np.mean(control)\n",
        "    mean_test = np.mean(test)\n",
        "\n",
        "    difference_mean = mean_test - mean_control\n",
        "    difference_mean_var = np.var(test - control) / len(control)\n",
        "    difference_distribution = sps.norm(loc=difference_mean, scale=np.sqrt(difference_mean_var))\n",
        "\n",
        "    left_bound, right_bound = difference_distribution.ppf([0.025, 0.975])\n",
        "    ci_length = (right_bound - left_bound)\n",
        "    pvalue = 2 * min(difference_distribution.cdf(0), difference_distribution.sf(0))\n",
        "    effect = difference_mean\n",
        "    return ExperimentComparisonResults(pvalue, effect, ci_length, left_bound, right_bound)"
      ],
      "metadata": {
        "id": "fN2KCOsK6RHN"
      },
      "execution_count": null,
      "outputs": []
    },
    {
      "cell_type": "code",
      "source": [
        "def paired_relative_ttest(control, test):\n",
        "    mean_control = np.mean(control)\n",
        "    mean_test = np.mean(test)\n",
        "\n",
        "    var_mean_control = np.var(control) / len(control)\n",
        "    difference_mean = mean_test - mean_control\n",
        "    difference_mean_var  = np.var(test - control) / len(test)\n",
        "\n",
        "    covariance = -np.cov(test - control, control)[0, 1] / len(control)\n",
        "\n",
        "    relative_mu = difference_mean / mean_control\n",
        "    relative_var = difference_mean_var / (mean_control ** 2) \\\n",
        "                    + var_mean_control * ((difference_mean ** 2) / (mean_control ** 4))\\\n",
        "                    - 2 * (difference_mean / (mean_control ** 3)) * covariance\n",
        "    relative_distribution = sps.norm(loc=relative_mu, scale=np.sqrt(relative_var))\n",
        "    left_bound, right_bound = relative_distribution.ppf([0.025, 0.975])\n",
        "\n",
        "    ci_length = (right_bound - left_bound)\n",
        "    pvalue = 2 * min(relative_distribution.cdf(0), relative_distribution.sf(0))\n",
        "    effect = relative_mu\n",
        "    return ExperimentComparisonResults(pvalue, effect, ci_length, left_bound, right_bound)"
      ],
      "metadata": {
        "id": "NCFMvMHB6RJt"
      },
      "execution_count": null,
      "outputs": []
    },
    {
      "cell_type": "code",
      "source": [
        "def paired_relative_cuped(control, test, control_before, test_before):\n",
        "    theta = np.cov(test - control, test_before - control_before)[0, 1] /\\\n",
        "                np.var(test_before - control_before)\n",
        "\n",
        "    control_cup = control - theta * control_before\n",
        "    test_cup = test - theta * test_before\n",
        "\n",
        "    mean_den = np.mean(control)\n",
        "    mean_num = np.mean(test_cup - control_cup)\n",
        "    var_mean_den  = np.var(control) / len(control)\n",
        "    var_mean_num  = np.var(test_cup - control_cup) / len(control_cup)\n",
        "\n",
        "    cov = np.cov(test_cup - control_cup, control)[0, 1] / len(control)\n",
        "\n",
        "    relative_mu = mean_num / mean_den\n",
        "    relative_var = var_mean_num / (mean_den ** 2)  + var_mean_den * ((mean_num ** 2) / (mean_den ** 4))\\\n",
        "                - 2 * (mean_num / (mean_den ** 3)) * cov\n",
        "\n",
        "    relative_distribution = sps.norm(loc=relative_mu, scale=np.sqrt(relative_var))\n",
        "    left_bound, right_bound = relative_distribution.ppf([0.025, 0.975])\n",
        "\n",
        "    ci_length = (right_bound - left_bound)\n",
        "    pvalue = 2 * min(relative_distribution.cdf(0), relative_distribution.sf(0))\n",
        "    effect = relative_mu\n",
        "    return ExperimentComparisonResults(pvalue, effect, ci_length, left_bound, right_bound)"
      ],
      "metadata": {
        "id": "4nA--Uso6iZe"
      },
      "execution_count": null,
      "outputs": []
    },
    {
      "cell_type": "code",
      "source": [
        "def splitter(before_metrics):\n",
        "    size = len(before_metrics)\n",
        "\n",
        "    sorted_array = np.sort(before_metrics)[::-1]\n",
        "    control = []\n",
        "    test = []\n",
        "    for i in range(0, size, 2):\n",
        "        if np.random.rand() < 0.5:\n",
        "            control.append(sorted_array[i])\n",
        "            test.append(sorted_array[i + 1])\n",
        "        else:\n",
        "            control.append(sorted_array[i + 1])\n",
        "            test.append(sorted_array[i])\n",
        "\n",
        "    return np.array(control), np.array(test)"
      ],
      "metadata": {
        "id": "5ZBXRgm__kYt"
      },
      "execution_count": null,
      "outputs": []
    },
    {
      "cell_type": "code",
      "source": [
        "def splitter(before_metrics):\n",
        "    size = len(before_metrics)\n",
        "\n",
        "    sorted_array = np.sort(before_metrics)[::-1]\n",
        "    control = []\n",
        "    test = []\n",
        "    for i in range(0, size, 2):\n",
        "        if np.random.rand() < 0.5:\n",
        "            control.append(sorted_array[i])\n",
        "            test.append(sorted_array[i + 1])\n",
        "        else:\n",
        "            control.append(sorted_array[i + 1])\n",
        "            test.append(sorted_array[i])\n",
        "\n",
        "    return np.array(control), np.array(test)"
      ],
      "metadata": {
        "id": "JFZuz2PS6xBz"
      },
      "execution_count": null,
      "outputs": []
    },
    {
      "cell_type": "markdown",
      "source": [
        "# Загрузка данных"
      ],
      "metadata": {
        "id": "67jdCZuAUsFE"
      }
    },
    {
      "cell_type": "code",
      "source": [
        "events = pd.read_parquet('events.pq')\n",
        "clickstream = pd.read_parquet('clickstream.pq')\n",
        "\n",
        "result = (\n",
        "    pd.merge(\n",
        "        left=clickstream,\n",
        "        right=events[events['is_contact'] == 1],\n",
        "        how='inner',\n",
        "        on='event'\n",
        "    )\n",
        "    .assign(week=lambda x: pd.to_datetime(x['event_date']).dt.to_period('W'))\n",
        "    .groupby(['cookie', 'week'], as_index=False)\n",
        "    .agg(contacts=('event', 'count'))\n",
        "    .rename(columns={'week': 'dt'})\n",
        ")"
      ],
      "metadata": {
        "id": "f_W-ilkCUyaC"
      },
      "execution_count": null,
      "outputs": []
    },
    {
      "cell_type": "code",
      "source": [
        "result = (\n",
        "    pd.merge(\n",
        "        left=clickstream,\n",
        "        right=events[events['is_contact'] == 1],\n",
        "        how='inner',\n",
        "        on='event'\n",
        "    )\n",
        "    .assign(week=lambda x: pd.to_datetime(x['event_date']).dt.to_period('W'))\n",
        "    .groupby(['cookie', 'week'], as_index=False)\n",
        "    .agg(contacts=('event', 'count'))\n",
        "    .rename(columns={'week': 'dt'})\n",
        ")"
      ],
      "metadata": {
        "id": "CsBJViXJUyg7"
      },
      "execution_count": null,
      "outputs": []
    },
    {
      "cell_type": "markdown",
      "source": [
        "# Визуализация данных"
      ],
      "metadata": {
        "id": "FXkk0rXE_yw1"
      }
    },
    {
      "cell_type": "code",
      "source": [
        "threshold = result['contacts'].quantile(0.975)\n",
        "\n",
        "filtered_data = result[result['contacts'] <= threshold]\n",
        "dist_df = filtered_data['contacts'].value_counts().sort_index().reset_index()\n",
        "dist_df.columns = ['contacts', 'unique_users']\n",
        "\n",
        "plt.figure(figsize=(12, 7))\n",
        "sns.set_style(\"whitegrid\")\n",
        "plt.rcParams['font.size'] = 12\n",
        "\n",
        "ax = sns.barplot(\n",
        "    x='contacts',\n",
        "    y='unique_users',\n",
        "    data=dist_df,\n",
        "    color='deepskyblue',\n",
        "    alpha=0.8,\n",
        "    edgecolor='white',\n",
        "    linewidth=0.5\n",
        ")\n",
        "\n",
        "mean_val = filtered_data['contacts'].mean()\n",
        "median_val = filtered_data['contacts'].median()\n",
        "\n",
        "plt.axvline(mean_val, color='crimson', linestyle='--', linewidth=2,\n",
        "            label=f'Среднее: {mean_val:.1f}')\n",
        "plt.axvline(median_val, color='navy', linestyle=':', linewidth=2,\n",
        "            label=f'Медиана: {median_val:.1f}')\n",
        "\n",
        "plt.title('Распределение количества контактов\\n(исключены топ 2.5% выбросов)', fontsize=14, pad=20)\n",
        "plt.xlabel('Количество контактов', fontsize=12)\n",
        "plt.ylabel('Количество уникальных пользователей', fontsize=12)\n",
        "\n",
        "if len(dist_df) > 20:\n",
        "    plt.xticks(rotation=90, fontsize=10)\n",
        "    ax.set_xticks(ax.get_xticks()[::5])\n",
        "else:\n",
        "    plt.xticks(rotation=45)\n",
        "\n",
        "plt.legend(frameon=True, fontsize=12)\n",
        "plt.tight_layout()\n",
        "plt.savefig('real.pdf')"
      ],
      "metadata": {
        "id": "RRAqneaPXHgl"
      },
      "execution_count": null,
      "outputs": []
    },
    {
      "cell_type": "markdown",
      "source": [
        "# Проверка на А/А- и А/Б-тестах"
      ],
      "metadata": {
        "id": "C5xkrbk-AHAj"
      }
    },
    {
      "cell_type": "code",
      "source": [
        "events = pd.read_parquet('events.pq')\n",
        "clickstream = pd.read_parquet('clickstream.pq')\n",
        "\n",
        "result = (\n",
        "    pd.merge(\n",
        "        left=clickstream,\n",
        "        right=events[events['is_contact'] == 1],\n",
        "        how='inner',\n",
        "        on='event'\n",
        "    )\n",
        "    .assign(week=lambda x: pd.to_datetime(x['event_date']).dt.to_period('W'))\n",
        "    .groupby(['cookie', 'week'], as_index=False)\n",
        "    .agg(contacts=('event', 'count'))\n",
        "    .rename(columns={'week': 'dt'})\n",
        ")"
      ],
      "metadata": {
        "id": "PG-iZfK91Qrn"
      },
      "execution_count": null,
      "outputs": []
    },
    {
      "cell_type": "code",
      "source": [
        "result['week'] = result['dt'].astype(str).str.split('/').str[0]\n",
        "result['user_id'] = result['cookie']\n",
        "result['revenue'] = result['contacts']\n",
        "result = result[['user_id', 'week', 'revenue']]"
      ],
      "metadata": {
        "id": "qfb6C9PC1SWW"
      },
      "execution_count": null,
      "outputs": []
    },
    {
      "cell_type": "code",
      "source": [
        "df = result.copy()"
      ],
      "metadata": {
        "id": "GSXl3Bji-VzB"
      },
      "execution_count": null,
      "outputs": []
    },
    {
      "cell_type": "code",
      "source": [
        "df['week'] = pd.to_datetime(df['week'])\n",
        "all_weeks = pd.date_range(start=df['week'].min(), end=df['week'].max(), freq='W-MON')\n",
        "users = df['user_id'].unique()\n",
        "full_index = pd.MultiIndex.from_product([users, all_weeks], names=['user_id', 'week'])\n",
        "df_full = df.set_index(['user_id', 'week']).reindex(full_index, fill_value=0).reset_index()\n",
        "df_full['week'] = df_full['week'].dt.strftime('%Y-%m-%d')"
      ],
      "metadata": {
        "id": "DoUTWFG6-vd2"
      },
      "execution_count": null,
      "outputs": []
    },
    {
      "cell_type": "code",
      "source": [
        "def splitter(before_df, revenue_col='before_total'):\n",
        "    sorted_df = before_df.sort_values(revenue_col, ascending=False).reset_index(drop=True)\n",
        "    pairs = sorted_df.groupby(sorted_df.index // 2)\n",
        "    control_users = []\n",
        "    test_users = []\n",
        "    for _, pair in pairs:\n",
        "        if len(pair) == 2:\n",
        "            if np.random.rand() < 0.5:\n",
        "                control_users.append(pair.iloc[0]['user_id'])\n",
        "                test_users.append(pair.iloc[1]['user_id'])\n",
        "            else:\n",
        "                control_users.append(pair.iloc[1]['user_id'])\n",
        "                test_users.append(pair.iloc[0]['user_id'])\n",
        "        else:\n",
        "            if np.random.rand() < 0.5:\n",
        "                control_users.append(pair.iloc[0]['user_id'])\n",
        "            else:\n",
        "                test_users.append(pair.iloc[0]['user_id'])\n",
        "    control_values = before_df.set_index('user_id').loc[control_users][revenue_col].values\n",
        "    test_values = before_df.set_index('user_id').loc[test_users][revenue_col].values\n",
        "    return (np.array(control_values), np.array(test_values), np.array(control_users), np.array(test_users))"
      ],
      "metadata": {
        "id": "Afp_itmIt8AZ"
      },
      "execution_count": null,
      "outputs": []
    },
    {
      "cell_type": "code",
      "source": [
        "user_data = df_full.groupby('user_id').agg(\n",
        "    before_total=('revenue', lambda x: x.iloc[:-1].sum()),\n",
        "    test_total=('revenue', lambda x: x.iloc[-1:].sum()),\n",
        "    before_mean=('revenue', lambda x: x.iloc[:-1].mean()),\n",
        "    before_median=('revenue', lambda x: x.iloc[:-1].median())\n",
        ").reset_index()"
      ],
      "metadata": {
        "id": "Lx3rVKult_GC"
      },
      "execution_count": null,
      "outputs": []
    },
    {
      "cell_type": "code",
      "source": [
        "user_data_helper = user_data.copy()"
      ],
      "metadata": {
        "id": "VQNUElYJ0kSC"
      },
      "execution_count": null,
      "outputs": []
    },
    {
      "cell_type": "code",
      "source": [
        "user_data = user_data_helper.copy()"
      ],
      "metadata": {
        "id": "vsIiSdZ10zx5"
      },
      "execution_count": null,
      "outputs": []
    },
    {
      "cell_type": "code",
      "source": [
        "# user_data = user_data[user_data['before_total'] >= 10]"
      ],
      "metadata": {
        "id": "K0_cZ8HH0pFh"
      },
      "execution_count": null,
      "outputs": []
    },
    {
      "cell_type": "code",
      "source": [
        "user_data = user_data.sample(n=5000).reset_index()\n",
        "user_data = user_data.drop('index', axis = 1)"
      ],
      "metadata": {
        "id": "bzefnem9uesh"
      },
      "execution_count": null,
      "outputs": []
    },
    {
      "cell_type": "code",
      "source": [
        "bad_cnt_ttest = 0\n",
        "bad_cnt_ttest_c = 0\n",
        "bad_cnt_paired = 0\n",
        "bad_cnt_paired_mean = 0\n",
        "bad_cnt_paired_median = 0\n",
        "power_ttest = 0\n",
        "power_paired = 0\n",
        "power_paired_mean = 0\n",
        "power_paired_median = 0\n",
        "N = 1000\n",
        "a = 0\n",
        "\n",
        "for i in tqdm_notebook(range(N)):\n",
        "    shuffled = user_data.sample(frac=1).reset_index(drop=True)\n",
        "    split_idx = len(shuffled) // 2\n",
        "    control_group = shuffled.iloc[:split_idx]\n",
        "    test_group = shuffled.iloc[split_idx:]\n",
        "    C_ttest = control_group['test_total'].values\n",
        "    T_ttest = test_group['test_total'].values * (1 + a)\n",
        "\n",
        "    C_b_paired, T_b_paired, C_ids, T_ids = splitter(user_data[['user_id', 'before_total']], 'before_total')\n",
        "    C_paired = user_data.set_index('user_id').loc[C_ids]['test_total'].values\n",
        "    T_paired = user_data.set_index('user_id').loc[T_ids]['test_total'].values * (1 + a)\n",
        "\n",
        "    C_b_paired_mean, T_b_paired_mean, C_ids_mean, T_ids_mean = splitter(user_data[['user_id', 'before_mean']], 'before_mean')\n",
        "    C_paired_mean = user_data.set_index('user_id').loc[C_ids_mean]['test_total'].values\n",
        "    T_paired_mean = user_data.set_index('user_id').loc[T_ids_mean]['test_total'].values * (1 + a)\n",
        "\n",
        "    C_b_paired_median, T_b_paired_median, C_ids_median, T_ids_median = splitter(user_data[['user_id', 'before_median']], 'before_median')\n",
        "    C_paired_median = user_data.set_index('user_id').loc[C_ids_median]['test_total'].values\n",
        "    T_paired_median = user_data.set_index('user_id').loc[T_ids_median]['test_total'].values * (1 + a)\n",
        "\n",
        "    _, _, _, left_t, right_t = relative_ttest(C_ttest, T_ttest)\n",
        "    _, _, _, left_t_c, right_t_c = relative_cuped(C_ttest, T_ttest, control_group['before_total'].values, test_group['before_total'].values)\n",
        "    _, _, _, left_p, right_p = paired_relative_ttest(C_paired, T_paired)\n",
        "    _, _, _, left_pm, right_pm = paired_relative_ttest(C_paired_mean, T_paired_mean)\n",
        "    _, _, _, left_pmd, right_pmd = paired_relative_ttest(C_paired_median, T_paired_median)\n",
        "\n",
        "    bad_cnt_ttest += int(left_t > a or right_t < a)\n",
        "    bad_cnt_ttest_c += int(left_t_c > a or right_t_c < a)\n",
        "    bad_cnt_paired += int(left_p > a or right_p < a)\n",
        "    bad_cnt_paired_mean += int(left_pm > a or right_pm < a)\n",
        "    bad_cnt_paired_median += int(left_pmd > a or right_pmd < a)\n",
        "\n",
        "    power_ttest += int(left_t > 0)\n",
        "    power_paired += int(left_p > 0)\n",
        "    power_paired_mean += int(left_pm > 0)\n",
        "    power_paired_median += int(left_pmd > 0)\n",
        "\n",
        "left_real_level_ttest, right_real_level_ttest = proportion_confint(bad_cnt_ttest, N, alpha=0.05, method='wilson')\n",
        "left_real_level_ttest_c, right_real_level_ttest_c = proportion_confint(bad_cnt_ttest_c, N, alpha=0.05, method='wilson')\n",
        "left_real_level_paired, right_real_level_paired = proportion_confint(bad_cnt_paired, N, alpha=0.05, method='wilson')\n",
        "left_real_level_paired_mean, right_real_level_paired_mean = proportion_confint(bad_cnt_paired_mean, N, alpha=0.05, method='wilson')\n",
        "left_real_level_paired_median, right_real_level_paired_median = proportion_confint(bad_cnt_paired_median, N, alpha=0.05, method='wilson')\n",
        "left_power_ttest, right_power_ttest = proportion_confint(power_ttest, N, alpha=0.05, method='wilson')\n",
        "left_power_paired, right_power_paired = proportion_confint(power_paired, N, alpha=0.05, method='wilson')\n",
        "left_power_paired_mean, right_power_paired_mean = proportion_confint(power_paired_mean, N, alpha=0.05, method='wilson')\n",
        "left_power_paired_median, right_power_paired_median = proportion_confint(power_paired_median, N, alpha=0.05, method='wilson')\n",
        "\n",
        "print(f\"Alpha, t test: {round(bad_cnt_ttest / N, 4)}; CI AA, t test: [{round(left_real_level_ttest, 5)}, {round(right_real_level_ttest, 5)}]\")\n",
        "print(f\"Alpha, t test c: {round(bad_cnt_ttest_c / N, 4)}; CI AA, t test c: [{round(left_real_level_ttest_c, 5)}, {round(right_real_level_ttest_c, 5)}]\")\n",
        "print(f\"Alpha, paired: {round(bad_cnt_paired / N, 4)}; CI AA, paired: [{round(left_real_level_paired, 5)}, {round(right_real_level_paired, 5)}]\")\n",
        "print(f\"Alpha, paired mean: {round(bad_cnt_paired_mean / N, 4)}; CI AA, paired mean: [{round(left_real_level_paired_mean, 5)}, {round(right_real_level_paired_mean, 5)}]\")\n",
        "print(f\"Alpha, paired median: {round(bad_cnt_paired_median / N, 4)}; CI AA, paired median: [{round(left_real_level_paired_median, 5)}, {round(right_real_level_paired_median, 5)}]\")\n",
        "print(f\"1-Beta, t test: {round(power_ttest / N, 4)}; CI AB, t test: [{round(left_power_ttest, 5)}, {round(right_power_ttest, 5)}]\")\n",
        "print(f\"1-Beta, paired: {round(power_paired / N, 4)}; CI AB, paired: [{round(left_power_paired, 5)}, {round(right_power_paired, 5)}]\")\n",
        "print(f\"1-Beta, paired mean: {round(power_paired_mean / N, 4)}; CI AB, paired mean: [{round(left_power_paired_mean, 5)}, {round(right_power_paired_mean, 5)}]\")\n",
        "print(f\"1-Beta, paired median: {round(power_paired_median / N, 4)}; CI AB, paired median: [{round(left_power_paired_median, 5)}, {round(right_power_paired_median, 5)}]\")"
      ],
      "metadata": {
        "id": "UjQNhKcSt_Ke"
      },
      "execution_count": null,
      "outputs": []
    },
    {
      "cell_type": "code",
      "source": [],
      "metadata": {
        "id": "skz4mTy66RMa"
      },
      "execution_count": null,
      "outputs": []
    }
  ]
}
